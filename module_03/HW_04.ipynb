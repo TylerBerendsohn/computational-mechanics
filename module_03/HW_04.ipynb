{
  "cells": [
    {
      "cell_type": "code",
      "execution_count": 15,
      "id": "047298e4-07fe-4952-841a-0203995aef0e",
      "metadata": {
        "id": "047298e4-07fe-4952-841a-0203995aef0e"
      },
      "outputs": [],
      "source": [
        "import numpy as np\n",
        "import matplotlib.pyplot as plt\n",
        "plt.style.use('fivethirtyeight')\n",
        "\n",
        "from numpy.random import default_rng\n",
        "rng = default_rng()"
      ]
    },
    {
      "cell_type": "markdown",
      "id": "a6d92daa-36b6-48da-b9db-19f70973ee31",
      "metadata": {
        "id": "a6d92daa-36b6-48da-b9db-19f70973ee31"
      },
      "source": [
        "## HW_04 - Exercise: failure prediction\n",
        "\n",
        "In the [dropping keys experiment](./drop_keys.ipynb), we ended the trials when the virtual person _succeeded_ in entering the room. What would this look like if an engineering process _failed_ when a certain device is used?\n",
        "\n",
        "Consider a manufacturing plant that produces uses O-rings in the assembly. The O-rings are the weakest link in the design. Your company needs to use 10 O-rings in every device you manufacture. If one O-ring fails, the whole device fails. Your quality control team knows the O-rings fail 1-out-of-10 times. When you test a device, if it fails the rings are discarded and ten more used to assemble the device.\n",
        "\n",
        "Your manager wants you to come up with a process to assemble these parts. The manager thinks that each part will need to be reassembled 10% of the time, regardless of the number of times its failed. See if you can recommend a process that makes use of this new knowledge that repeated assemblies have a decreased chance of failure.\n",
        "\n"
      ]
    },
    {
      "cell_type": "code",
      "execution_count": 17,
      "id": "84ec401f-2cd5-44c5-9194-7bc2b336340e",
      "metadata": {
        "colab": {
          "base_uri": "https://localhost:8080/",
          "height": 761
        },
        "id": "84ec401f-2cd5-44c5-9194-7bc2b336340e",
        "outputId": "03d38eba-f7f4-46a6-e8ba-f85d7aa6a315"
      },
      "outputs": [
        {
          "output_type": "execute_result",
          "data": {
            "text/plain": [
              "(array([  0., 978., 935., 786., 746., 645., 589., 499., 484., 405., 392.,\n",
              "        345., 308., 277., 241., 229., 221., 166., 183., 160., 142., 118.,\n",
              "        120.,  94.,  92.,  92.,  74.,  54.,  60.,  67.,  51.,  40.,  44.,\n",
              "         34.,  36.,  25.,  33.,  30.,  22.,  20.,   8.,  14.,  15.,  13.,\n",
              "         13.,  10.,  10.,   7.,   6.,   2.,   4.,   5.,   3.,   5.,   3.,\n",
              "          6.,   5.,   1.,   1.,   4.,   4.,   5.,   3.,   3.,   1.,   0.,\n",
              "          0.,   2.,   1.,   0.,   1.,   0.,   1.,   0.,   1.,   2.,   1.,\n",
              "          1.,   0.,   0.,   0.,   0.,   0.,   0.,   0.,   0.,   0.,   1.,\n",
              "          0.,   0.,   0.,   0.,   0.,   0.,   0.]),\n",
              " array([ 0.,  1.,  2.,  3.,  4.,  5.,  6.,  7.,  8.,  9., 10., 11., 12.,\n",
              "        13., 14., 15., 16., 17., 18., 19., 20., 21., 22., 23., 24., 25.,\n",
              "        26., 27., 28., 29., 30., 31., 32., 33., 34., 35., 36., 37., 38.,\n",
              "        39., 40., 41., 42., 43., 44., 45., 46., 47., 48., 49., 50., 51.,\n",
              "        52., 53., 54., 55., 56., 57., 58., 59., 60., 61., 62., 63., 64.,\n",
              "        65., 66., 67., 68., 69., 70., 71., 72., 73., 74., 75., 76., 77.,\n",
              "        78., 79., 80., 81., 82., 83., 84., 85., 86., 87., 88., 89., 90.,\n",
              "        91., 92., 93., 94., 95.]),\n",
              " <BarContainer object of 95 artists>)"
            ]
          },
          "metadata": {},
          "execution_count": 17
        },
        {
          "output_type": "display_data",
          "data": {
            "text/plain": [
              "<Figure size 640x480 with 1 Axes>"
            ],
            "image/png": "[encoded data removed]"
          },
          "metadata": {}
        }
      ],
      "source": [
        "N = 10000\n",
        "cases = np.zeros(N)\n",
        "keys = np.arange(10)\n",
        "for ncase in range(N):\n",
        "    tries = 0\n",
        "    key = 10\n",
        "    while key != 0:\n",
        "        key = rng.integers(len(keys), size = 1)\n",
        "        tries += 1\n",
        "    cases[ncase] = tries\n",
        "plt.hist(cases, bins = np.arange(np.max(cases)))"
      ]
    },
    {
      "cell_type": "code",
      "execution_count": 4,
      "id": "ffd2855a-c4ce-4180-a426-74aefde68a21",
      "metadata": {
        "colab": {
          "base_uri": "https://localhost:8080/",
          "height": 0
        },
        "id": "ffd2855a-c4ce-4180-a426-74aefde68a21",
        "outputId": "7891bb6e-5dd1-4ba6-b5d8-132490da3a07"
      },
      "outputs": [
        {
          "output_type": "stream",
          "name": "stdout",
          "text": [
            "failure on try 1: 1035.0, 10.35%\n",
            "failure on try 2: 875.0, 8.75%\n",
            "failure on try 3: 854.0, 8.54%\n",
            "failure on try 4: 669.0, 6.69%\n"
          ]
        }
      ],
      "source": [
        "try_01 = np.sum(cases == 1)/N\n",
        "try_02 = np.sum(cases == 2)/N\n",
        "try_03 = np.sum(cases == 3)/N\n",
        "try_04 = np.sum(cases == 4)/N\n",
        "\n",
        "print('failure on try 1: {}, {:1.2f}%'.format(try_01*N, 100*try_01))\n",
        "\n",
        "print('failure on try 2: {}, {:1.2f}%'.format(try_02*N, 100*try_02))\n",
        "\n",
        "print('failure on try 3: {}, {:1.2f}%'.format(try_03*N, 100*try_03))\n",
        "\n",
        "print('failure on try 4: {}, {:1.2f}%'.format(try_04*N, 100*try_04))\n"
      ]
    },
    {
      "cell_type": "code",
      "execution_count": 5,
      "id": "98471f67-7f58-4dc6-8ce7-6b598a8c128b",
      "metadata": {
        "colab": {
          "base_uri": "https://localhost:8080/",
          "height": 0
        },
        "id": "98471f67-7f58-4dc6-8ce7-6b598a8c128b",
        "outputId": "61c4b0a8-c744-48e5-81ba-7508b8ab4cbd"
      },
      "outputs": [
        {
          "output_type": "execute_result",
          "data": {
            "text/plain": [
              "0.07289999999999999"
            ]
          },
          "metadata": {},
          "execution_count": 5
        }
      ],
      "source": [
        "1/10*9/10*9/10*9/10"
      ]
    },
    {
      "cell_type": "markdown",
      "source": [
        "My first thought when given this problem is to test individual o-rings with some sort of o-ring test rather than testing a while assembly and having to take the entire thing apart and discard all the rings if only one had failed. Although this doesn't relate to the procedure and monte carlo analysis outlined above, it would be an efficient way of testing each of these rings while minimizing the need for discarding rings that work effectively.\n",
        "\n",
        "For a specific testing process, you could create a batch of assemblies and do multiple tests at a time to minimize the downtime and allow for tests that fail quickly to be reassembled for a future analysis. Keeping track of how many times each individual assembly is reassembled could also be effective as after around 20-30 reassembles it is more and more unlikely that an error is to occur. Potentially checking the actual assembly itself rather than assuming the orings are the problem may prove effective since almost 90% of tests are completed between 1-20 reassembles and ~95% of assemblies are completed between 1-30 attempts.\n",
        "\n",
        "To minimize the amount of materials wasted try and add some sort of process that can track which o rings fail and which work as expected. If it can not be done to account for a specific oring working try and narrow it down to 2-3 o rings that failed to allow for the ones that worked to be reused and so it doesn't have to be fully disassembled.\n",
        "\n",
        "Potentially see if you could have the supplier give orings that are able to pass the testing a higher percentage of the time. If not, picking a new supplier could save more time, money, and materials.\n",
        "\n",
        "Rerunning this test with seeing how changing only 5/10 rings could prove to be useful to see how the assemblies compare. This could mean that it could take an extra test half the time but the other half it would save half of the orings that work if it was to work instead of fail."
      ],
      "metadata": {
        "id": "HMDvIJZBgbeN"
      },
      "id": "HMDvIJZBgbeN"
    }
  ],
  "metadata": {
    "kernelspec": {
      "display_name": "Python 3 (ipykernel)",
      "language": "python",
      "name": "python3"
    },
    "language_info": {
      "codemirror_mode": {
        "name": "ipython",
        "version": 3
      },
      "file_extension": ".py",
      "mimetype": "text/x-python",
      "name": "python",
      "nbconvert_exporter": "python",
      "pygments_lexer": "ipython3",
      "version": "3.9.7"
    },
    "colab": {
      "provenance": []
    }
  },
  "nbformat": 4,
  "nbformat_minor": 5
}